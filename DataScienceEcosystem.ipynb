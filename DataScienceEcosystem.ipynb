{
 "cells": [
  {
   "cell_type": "markdown",
   "id": "66634260-b409-4eac-8ebe-92f2371b4381",
   "metadata": {},
   "source": [
    "# Data Science Tools and Ecosystem"
   ]
  },
  {
   "cell_type": "markdown",
   "id": "e2e8db5e-0273-4030-9de3-953ee8b458e9",
   "metadata": {},
   "source": [
    "### In this notebook, Data Science Tools and Ecosystem are summarized."
   ]
  },
  {
   "cell_type": "markdown",
   "id": "ca2d12ce-c1ac-4598-b31a-94f1554cc2ca",
   "metadata": {},
   "source": [
    "**Objectives:**\n",
    "\n",
    "- List popular languages for Data Science\n",
    "- Understand basic arithmetic operations\n",
    "- Learn how to use Markdown for formatting\n",
    "- Explore how to combine multiple expressions in a single line\n"
   ]
  },
  {
   "cell_type": "markdown",
   "id": "96b1b759-db26-4f86-b633-405404cb261a",
   "metadata": {},
   "source": [
    "Some of the popular languages that Data Scientists use are:\n",
    "1. python\n",
    "2. R\n",
    "3. Java"
   ]
  },
  {
   "cell_type": "markdown",
   "id": "a7e4398b-c496-4a2f-ab64-4032222c700c",
   "metadata": {},
   "source": [
    "Some of the commonly used libraries used by Data Scientists include:\n",
    "1. Pandas\n",
    "2. MatplotLib\n",
    "3. ggplot"
   ]
  },
  {
   "cell_type": "markdown",
   "id": "f171dfe6-fe70-480e-8d9d-c0cb1e358e9f",
   "metadata": {},
   "source": [
    "| Data Science Tools |\n",
    "|--------------------|\n",
    "| Jupyter Notebook   |\n",
    "| RStudio            |\n",
    "| Apache Zeppelin    |\n"
   ]
  },
  {
   "cell_type": "markdown",
   "id": "ba9f6abd-89d6-48af-a02d-a68e90dd2eac",
   "metadata": {},
   "source": [
    "### Below are a few examples of evaluating arithmetic expressions in Python."
   ]
  },
  {
   "cell_type": "markdown",
   "id": "9fa1d9f3-a5c1-4b78-ad1d-a9f2d13953a9",
   "metadata": {},
   "source": [
    "This is a simple arithmetic expression to multiply then add integers"
   ]
  },
  {
   "cell_type": "code",
   "execution_count": 2,
   "id": "5cd209bc-de5a-4519-ae84-d43ffc0856c7",
   "metadata": {},
   "outputs": [
    {
     "data": {
      "text/plain": [
       "17"
      ]
     },
     "execution_count": 2,
     "metadata": {},
     "output_type": "execute_result"
    }
   ],
   "source": [
    "result = (3 * 4) + 5\n",
    "result"
   ]
  },
  {
   "cell_type": "markdown",
   "id": "343228e9-ca17-48f5-8abb-bb85d34ec3fe",
   "metadata": {},
   "source": [
    "This will convert 200 minutes to hours by diving by 60"
   ]
  },
  {
   "cell_type": "code",
   "execution_count": 8,
   "id": "a08f46d5-c7d4-40ae-acd6-52bf0a542dd9",
   "metadata": {},
   "outputs": [],
   "source": [
    "import math\n",
    "hours = math.floor(200 / 60)\n",
    "minutes = 200 % 60 "
   ]
  },
  {
   "cell_type": "code",
   "execution_count": 10,
   "id": "d095ab16-89cc-41df-ab5c-25ca6fb5c133",
   "metadata": {},
   "outputs": [
    {
     "name": "stdout",
     "output_type": "stream",
     "text": [
      "3 hours and 20 minutes\n"
     ]
    }
   ],
   "source": [
    "print(f'{hours} hours' + (f' and {minutes} minutes' if minutes > 0 else ''))"
   ]
  },
  {
   "cell_type": "markdown",
   "id": "c1c08594-57bd-4b27-9baa-33a112691d30",
   "metadata": {},
   "source": [
    "## Author\n",
    "imed-eddine benmadi"
   ]
  },
  
 ],
 "metadata": {
  "kernelspec": {
   "display_name": "Python 3 (ipykernel)",
   "language": "python",
   "name": "python3"
  },
  "language_info": {
   "codemirror_mode": {
    "name": "ipython",
    "version": 3
   },
   "file_extension": ".py",
   "mimetype": "text/x-python",
   "name": "python",
   "nbconvert_exporter": "python",
   "pygments_lexer": "ipython3",
   "version": "3.11.5"
  }
 },
 "nbformat": 4,
 "nbformat_minor": 5
}
